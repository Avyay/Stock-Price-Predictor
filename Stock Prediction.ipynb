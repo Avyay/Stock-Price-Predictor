{
 "cells": [
  {
   "cell_type": "code",
   "execution_count": 21,
   "metadata": {},
   "outputs": [],
   "source": [
    "#import libarry for mathematical calculations\n",
    "import numpy as np"
   ]
  },
  {
   "cell_type": "code",
   "execution_count": 22,
   "metadata": {},
   "outputs": [],
   "source": [
    "#importing library to import the csv data\n",
    "import pandas as pd "
   ]
  },
  {
   "cell_type": "code",
   "execution_count": 23,
   "metadata": {},
   "outputs": [],
   "source": [
    "#importing libabry to plot the prediction \n",
    "import matplotlib.pyplot as plt"
   ]
  },
  {
   "cell_type": "code",
   "execution_count": 24,
   "metadata": {},
   "outputs": [],
   "source": [
    "#importing library to convert column into datetime\n",
    "from datetime import datetime as dt"
   ]
  },
  {
   "cell_type": "code",
   "execution_count": 25,
   "metadata": {},
   "outputs": [
    {
     "name": "stdout",
     "output_type": "stream",
     "text": [
      "              date symbol       open      close        low       high  \\\n",
      "848874  2016-12-23   CSCO  30.540001  30.530001  30.400000  30.600000   \n",
      "849374  2016-12-27   CSCO  30.639999  30.680000  30.600000  30.820000   \n",
      "849874  2016-12-28   CSCO  30.700001  30.420000  30.350000  30.770000   \n",
      "850374  2016-12-29   CSCO  30.370001  30.459999  30.330000  30.549999   \n",
      "850874  2016-12-30   CSCO  30.559999  30.219999  30.129999  30.600000   \n",
      "\n",
      "            volume  \n",
      "848874   9167500.0  \n",
      "849374  14175500.0  \n",
      "849874  12022200.0  \n",
      "850374  10995600.0  \n",
      "850874  20190000.0  \n"
     ]
    }
   ],
   "source": [
    "df=pd.read_csv('d:prices.csv')\n",
    "df.tail()\n",
    "df=df.loc[df['symbol'] == 'CSCO']\n",
    "print(df.tail())"
   ]
  },
  {
   "cell_type": "code",
   "execution_count": 26,
   "metadata": {},
   "outputs": [],
   "source": [
    "from sklearn.linear_model import LinearRegression\n",
    "import math\n",
    "from sklearn.preprocessing import scale\n",
    "from sklearn.model_selection import train_test_split"
   ]
  },
  {
   "cell_type": "code",
   "execution_count": 27,
   "metadata": {},
   "outputs": [
    {
     "name": "stdout",
     "output_type": "stream",
     "text": [
      "18\n",
      "            date symbol       open      close        low       high  \\\n",
      "356   2010-01-04   CSCO  24.110001  24.690001  24.010000  24.840000   \n",
      "824   2010-01-05   CSCO  24.600000  24.580000  24.379999  24.730000   \n",
      "1292  2010-01-06   CSCO  24.540001  24.420000  24.340000  24.740000   \n",
      "1760  2010-01-07   CSCO  24.299999  24.530001  24.170000  24.570000   \n",
      "2228  2010-01-08   CSCO  24.379999  24.660000  24.250000  24.700001   \n",
      "\n",
      "          volume      label  \n",
      "356   59853700.0  22.469999  \n",
      "824   45124500.0  22.730000  \n",
      "1292  35715700.0  23.020000  \n",
      "1760  31531200.0  23.070000  \n",
      "2228  39115900.0  23.160000  \n"
     ]
    }
   ],
   "source": [
    "forecast_col = 'close'\n",
    "df.fillna(value=-99999, inplace=True)\n",
    "forecast_out = int(math.ceil(0.01 * len(df)))\n",
    "print(forecast_out)\n",
    "df['label'] = df[forecast_col].shift(-forecast_out)\n",
    "print(df.head())"
   ]
  },
  {
   "cell_type": "code",
   "execution_count": 28,
   "metadata": {},
   "outputs": [],
   "source": [
    "#X = np.array(df.drop(['label'], 1))\n",
    "\n",
    "X=np.array(df.drop(['label','symbol','date'], axis=1))\n",
    "#print(X)\n",
    "X = scale(X)\n",
    "#print(X)\n",
    "X_lately = X[-forecast_out:]\n",
    "#print(X_lately)\n",
    "X = X[:-forecast_out]\n",
    "df.dropna(inplace=True)\n",
    "y = np.array(df['label'])\n",
    "X_train, X_test, y_train, y_test =train_test_split(X, y, test_size=0.2)"
   ]
  },
  {
   "cell_type": "code",
   "execution_count": 29,
   "metadata": {},
   "outputs": [
    {
     "name": "stdout",
     "output_type": "stream",
     "text": [
      "0.8663711450748177\n"
     ]
    }
   ],
   "source": [
    "clf = LinearRegression(n_jobs=-1)\n",
    "clf.fit(X_train, y_train)\n",
    "confidence = clf.score(X_test, y_test)\n",
    "print(confidence)"
   ]
  },
  {
   "cell_type": "code",
   "execution_count": 30,
   "metadata": {},
   "outputs": [
    {
     "name": "stdout",
     "output_type": "stream",
     "text": [
      "[29.05577174 29.81873132 29.80277497 29.55793021 29.6838546  30.22235196\n",
      " 30.59267879 30.25807548 29.91442702 30.3728455  30.23970952 30.0518695\n",
      " 29.96972244 30.07906756 30.30314834 30.2021128  30.09172537 29.96532059]\n",
      "2016-12-05\n",
      "                    date symbol  open  close  low  high  volume  label  \\\n",
      "2016-12-19 00:00:00  NaN    NaN   NaN    NaN  NaN   NaN     NaN    NaN   \n",
      "2016-12-20 00:00:00  NaN    NaN   NaN    NaN  NaN   NaN     NaN    NaN   \n",
      "2016-12-21 00:00:00  NaN    NaN   NaN    NaN  NaN   NaN     NaN    NaN   \n",
      "2016-12-22 00:00:00  NaN    NaN   NaN    NaN  NaN   NaN     NaN    NaN   \n",
      "2016-12-23 00:00:00  NaN    NaN   NaN    NaN  NaN   NaN     NaN    NaN   \n",
      "\n",
      "                      Forecast  \n",
      "2016-12-19 00:00:00  30.079068  \n",
      "2016-12-20 00:00:00  30.303148  \n",
      "2016-12-21 00:00:00  30.202113  \n",
      "2016-12-22 00:00:00  30.091725  \n",
      "2016-12-23 00:00:00  29.965321  \n"
     ]
    },
    {
     "data": {
      "image/png": "[encoded data removed]",
      "text/plain": [
       "<Figure size 432x288 with 1 Axes>"
      ]
     },
     "metadata": {
      "needs_background": "light"
     },
     "output_type": "display_data"
    }
   ],
   "source": [
    "forecast_set = clf.predict(X_lately)\n",
    "print(forecast_set)\n",
    "df['Forecast'] = np.nan\n",
    "last_date = df.iloc[-1].date\n",
    "print(last_date)\n",
    "last_date=dt.strptime(last_date, '%Y-%m-%d').timestamp()\n",
    "last_unix = last_date\n",
    "one_day = 86400\n",
    "next_unix = last_unix + one_day\n",
    "\n",
    "for i in forecast_set:\n",
    "    next_date = dt.fromtimestamp(next_unix)\n",
    "    next_unix += 86400\n",
    "    df.loc[next_date] = [np.nan for _ in range(len(df.columns)-1)]+[i]\n",
    "print(df.tail())\n",
    "df['close'].plot()\n",
    "df['Forecast'].plot()\n",
    "#plt.legend(loc=4)\n",
    "plt.xlabel('Date')\n",
    "plt.ylabel('Price')\n",
    "plt.show()"
   ]
  },
  {
   "cell_type": "code",
   "execution_count": null,
   "metadata": {},
   "outputs": [],
   "source": []
  },
  {
   "cell_type": "code",
   "execution_count": null,
   "metadata": {},
   "outputs": [],
   "source": []
  },
  {
   "cell_type": "code",
   "execution_count": null,
   "metadata": {},
   "outputs": [],
   "source": []
  },
  {
   "cell_type": "code",
   "execution_count": null,
   "metadata": {},
   "outputs": [],
   "source": []
  }
 ],
 "metadata": {
  "kernelspec": {
   "display_name": "Python 3",
   "language": "python",
   "name": "python3"
  },
  "language_info": {
   "codemirror_mode": {
    "name": "ipython",
    "version": 3
   },
   "file_extension": ".py",
   "mimetype": "text/x-python",
   "name": "python",
   "nbconvert_exporter": "python",
   "pygments_lexer": "ipython3",
   "version": "3.7.4"
  }
 },
 "nbformat": 4,
 "nbformat_minor": 2
}
